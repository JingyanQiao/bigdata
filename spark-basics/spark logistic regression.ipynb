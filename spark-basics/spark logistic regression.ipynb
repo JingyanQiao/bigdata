{
 "cells": [
  {
   "cell_type": "markdown",
   "metadata": {},
   "source": [
    "#### practice"
   ]
  },
  {
   "cell_type": "code",
   "execution_count": 1,
   "metadata": {
    "ExecuteTime": {
     "end_time": "2021-04-16T15:56:43.063110Z",
     "start_time": "2021-04-16T15:56:35.306526Z"
    }
   },
   "outputs": [],
   "source": [
    "from pyspark.sql import SparkSession\n",
    "spark = SparkSession.builder.appName('log_practice').getOrCreate()"
   ]
  },
  {
   "cell_type": "code",
   "execution_count": 19,
   "metadata": {
    "ExecuteTime": {
     "end_time": "2021-04-16T16:13:03.820611Z",
     "start_time": "2021-04-16T16:13:03.646044Z"
    }
   },
   "outputs": [],
   "source": [
    "my_data = spark.read.csv('titanic.csv', inferSchema = True, header = True)"
   ]
  },
  {
   "cell_type": "code",
   "execution_count": 2,
   "metadata": {
    "ExecuteTime": {
     "end_time": "2021-04-16T15:58:15.748265Z",
     "start_time": "2021-04-16T15:58:15.744274Z"
    }
   },
   "outputs": [],
   "source": [
    "from pyspark.ml.classification import LogisticRegression"
   ]
  },
  {
   "cell_type": "code",
   "execution_count": 20,
   "metadata": {
    "ExecuteTime": {
     "end_time": "2021-04-16T16:13:05.993740Z",
     "start_time": "2021-04-16T16:13:05.988754Z"
    }
   },
   "outputs": [
    {
     "name": "stdout",
     "output_type": "stream",
     "text": [
      "root\n",
      " |-- PassengerId: integer (nullable = true)\n",
      " |-- Survived: integer (nullable = true)\n",
      " |-- Pclass: integer (nullable = true)\n",
      " |-- Name: string (nullable = true)\n",
      " |-- Sex: string (nullable = true)\n",
      " |-- Age: double (nullable = true)\n",
      " |-- SibSp: integer (nullable = true)\n",
      " |-- Parch: integer (nullable = true)\n",
      " |-- Ticket: string (nullable = true)\n",
      " |-- Fare: double (nullable = true)\n",
      " |-- Cabin: string (nullable = true)\n",
      " |-- Embarked: string (nullable = true)\n",
      "\n"
     ]
    }
   ],
   "source": [
    "my_data.printSchema()"
   ]
  },
  {
   "cell_type": "code",
   "execution_count": 22,
   "metadata": {
    "ExecuteTime": {
     "end_time": "2021-04-16T16:13:44.697392Z",
     "start_time": "2021-04-16T16:13:44.692416Z"
    }
   },
   "outputs": [
    {
     "data": {
      "text/plain": [
       "['PassengerId',\n",
       " 'Survived',\n",
       " 'Pclass',\n",
       " 'Name',\n",
       " 'Sex',\n",
       " 'Age',\n",
       " 'SibSp',\n",
       " 'Parch',\n",
       " 'Ticket',\n",
       " 'Fare',\n",
       " 'Cabin',\n",
       " 'Embarked']"
      ]
     },
     "execution_count": 22,
     "metadata": {},
     "output_type": "execute_result"
    }
   ],
   "source": [
    "my_data.columns"
   ]
  },
  {
   "cell_type": "code",
   "execution_count": 23,
   "metadata": {
    "ExecuteTime": {
     "end_time": "2021-04-16T16:15:11.875914Z",
     "start_time": "2021-04-16T16:15:11.849970Z"
    }
   },
   "outputs": [],
   "source": [
    "my_cols = my_data.select(['Survived','Pclass','Sex','Age','SibSp','Parch',\n",
    "                          'Ticket','Fare','Cabin','Embarked'])"
   ]
  },
  {
   "cell_type": "code",
   "execution_count": 24,
   "metadata": {
    "ExecuteTime": {
     "end_time": "2021-04-16T16:15:52.324107Z",
     "start_time": "2021-04-16T16:15:52.307786Z"
    }
   },
   "outputs": [],
   "source": [
    "# missing data\n",
    "df = my_cols.na.drop()"
   ]
  },
  {
   "cell_type": "code",
   "execution_count": 25,
   "metadata": {
    "ExecuteTime": {
     "end_time": "2021-04-16T16:17:40.022577Z",
     "start_time": "2021-04-16T16:17:40.018588Z"
    }
   },
   "outputs": [],
   "source": [
    "# categorical data\n",
    "from pyspark.ml.feature import StringIndexer, VectorAssembler, VectorIndexer, OneHotEncoder"
   ]
  },
  {
   "cell_type": "code",
   "execution_count": 32,
   "metadata": {
    "ExecuteTime": {
     "end_time": "2021-04-16T16:43:41.012484Z",
     "start_time": "2021-04-16T16:43:41.000516Z"
    }
   },
   "outputs": [],
   "source": [
    "embark_indexer = StringIndexer(inputCol='Embarked', outputCol='EmbarkIndex')\n",
    "embark_encoder = OneHotEncoder(inputCol = 'EmbarkIndex', outputCol = 'EmbarkVec')"
   ]
  },
  {
   "cell_type": "code",
   "execution_count": 33,
   "metadata": {
    "ExecuteTime": {
     "end_time": "2021-04-16T16:43:41.985175Z",
     "start_time": "2021-04-16T16:43:41.974205Z"
    }
   },
   "outputs": [],
   "source": [
    "gender_indexer = StringIndexer(inputCol='Sex', outputCol='SexIndex')\n",
    "gender_encoder = OneHotEncoder(inputCol = 'SexIndex', outputCol = 'SexVec')"
   ]
  },
  {
   "cell_type": "code",
   "execution_count": 34,
   "metadata": {
    "ExecuteTime": {
     "end_time": "2021-04-16T16:43:43.104931Z",
     "start_time": "2021-04-16T16:43:43.097919Z"
    }
   },
   "outputs": [],
   "source": [
    "assembler = VectorAssembler(inputCols = ['Pclass','SexVec','Age','SibSp','Parch',\n",
    "                                        'Fare','EmbarkVec'], outputCol = 'features')"
   ]
  },
  {
   "cell_type": "code",
   "execution_count": 35,
   "metadata": {
    "ExecuteTime": {
     "end_time": "2021-04-16T16:43:48.291548Z",
     "start_time": "2021-04-16T16:43:48.287559Z"
    }
   },
   "outputs": [],
   "source": [
    "from pyspark.ml.pipeline import Pipeline"
   ]
  },
  {
   "cell_type": "code",
   "execution_count": 36,
   "metadata": {
    "ExecuteTime": {
     "end_time": "2021-04-16T16:43:49.202497Z",
     "start_time": "2021-04-16T16:43:49.196518Z"
    }
   },
   "outputs": [],
   "source": [
    "log_reg = LogisticRegression(featuresCol = 'features', labelCol='Survived')"
   ]
  },
  {
   "cell_type": "code",
   "execution_count": 37,
   "metadata": {
    "ExecuteTime": {
     "end_time": "2021-04-16T16:43:50.130056Z",
     "start_time": "2021-04-16T16:43:50.126074Z"
    }
   },
   "outputs": [],
   "source": [
    "pipeline = Pipeline(stages = [gender_indexer, embark_indexer, gender_encoder, embark_encoder, assembler, log_reg])"
   ]
  },
  {
   "cell_type": "code",
   "execution_count": 38,
   "metadata": {
    "ExecuteTime": {
     "end_time": "2021-04-16T16:44:24.414258Z",
     "start_time": "2021-04-16T16:44:24.402289Z"
    }
   },
   "outputs": [],
   "source": [
    "train, test = df.randomSplit([0.7,0.3])"
   ]
  },
  {
   "cell_type": "code",
   "execution_count": 39,
   "metadata": {
    "ExecuteTime": {
     "end_time": "2021-04-16T16:44:41.057833Z",
     "start_time": "2021-04-16T16:44:38.595304Z"
    }
   },
   "outputs": [],
   "source": [
    "logreg = pipeline.fit(train)"
   ]
  },
  {
   "cell_type": "code",
   "execution_count": 40,
   "metadata": {
    "ExecuteTime": {
     "end_time": "2021-04-16T16:45:01.523603Z",
     "start_time": "2021-04-16T16:45:01.403253Z"
    }
   },
   "outputs": [],
   "source": [
    "result = logreg.transform(test)"
   ]
  },
  {
   "cell_type": "code",
   "execution_count": 42,
   "metadata": {
    "ExecuteTime": {
     "end_time": "2021-04-16T16:46:14.273565Z",
     "start_time": "2021-04-16T16:46:14.268610Z"
    }
   },
   "outputs": [
    {
     "name": "stdout",
     "output_type": "stream",
     "text": [
      "root\n",
      " |-- Survived: integer (nullable = true)\n",
      " |-- Pclass: integer (nullable = true)\n",
      " |-- Sex: string (nullable = true)\n",
      " |-- Age: double (nullable = true)\n",
      " |-- SibSp: integer (nullable = true)\n",
      " |-- Parch: integer (nullable = true)\n",
      " |-- Ticket: string (nullable = true)\n",
      " |-- Fare: double (nullable = true)\n",
      " |-- Cabin: string (nullable = true)\n",
      " |-- Embarked: string (nullable = true)\n",
      " |-- SexIndex: double (nullable = false)\n",
      " |-- EmbarkIndex: double (nullable = false)\n",
      " |-- SexVec: vector (nullable = true)\n",
      " |-- EmbarkVec: vector (nullable = true)\n",
      " |-- features: vector (nullable = true)\n",
      " |-- rawPrediction: vector (nullable = true)\n",
      " |-- probability: vector (nullable = true)\n",
      " |-- prediction: double (nullable = false)\n",
      "\n"
     ]
    }
   ],
   "source": [
    "result.printSchema()"
   ]
  },
  {
   "cell_type": "code",
   "execution_count": 41,
   "metadata": {
    "ExecuteTime": {
     "end_time": "2021-04-16T16:45:20.603642Z",
     "start_time": "2021-04-16T16:45:20.596651Z"
    }
   },
   "outputs": [],
   "source": [
    "from pyspark.ml.evaluation import MulticlassClassificationEvaluator, BinaryClassificationEvaluator"
   ]
  },
  {
   "cell_type": "code",
   "execution_count": 43,
   "metadata": {
    "ExecuteTime": {
     "end_time": "2021-04-16T16:46:48.499458Z",
     "start_time": "2021-04-16T16:46:48.488486Z"
    }
   },
   "outputs": [],
   "source": [
    "my_eval = BinaryClassificationEvaluator(rawPredictionCol='prediction', labelCol = 'Survived')"
   ]
  },
  {
   "cell_type": "code",
   "execution_count": 44,
   "metadata": {
    "ExecuteTime": {
     "end_time": "2021-04-16T16:47:43.776705Z",
     "start_time": "2021-04-16T16:47:43.590664Z"
    }
   },
   "outputs": [],
   "source": [
    "AUC = my_eval.evaluate(result)"
   ]
  },
  {
   "cell_type": "code",
   "execution_count": 45,
   "metadata": {
    "ExecuteTime": {
     "end_time": "2021-04-16T16:47:46.103956Z",
     "start_time": "2021-04-16T16:47:46.098970Z"
    }
   },
   "outputs": [
    {
     "data": {
      "text/plain": [
       "0.6994047619047619"
      ]
     },
     "execution_count": 45,
     "metadata": {},
     "output_type": "execute_result"
    }
   ],
   "source": [
    "AUC"
   ]
  },
  {
   "cell_type": "markdown",
   "metadata": {},
   "source": [
    "#### logistic consluting project"
   ]
  },
  {
   "cell_type": "code",
   "execution_count": 1,
   "metadata": {
    "ExecuteTime": {
     "end_time": "2021-04-20T15:27:33.695525Z",
     "start_time": "2021-04-20T15:27:33.163985Z"
    }
   },
   "outputs": [],
   "source": [
    "from pyspark.sql import SparkSession"
   ]
  },
  {
   "cell_type": "code",
   "execution_count": 2,
   "metadata": {
    "ExecuteTime": {
     "end_time": "2021-04-20T15:28:19.969792Z",
     "start_time": "2021-04-20T15:28:04.802778Z"
    }
   },
   "outputs": [],
   "source": [
    "spark = SparkSession.builder.appName('log_reg').getOrCreate()"
   ]
  },
  {
   "cell_type": "code",
   "execution_count": 3,
   "metadata": {
    "ExecuteTime": {
     "end_time": "2021-04-20T15:30:42.370115Z",
     "start_time": "2021-04-20T15:30:39.460601Z"
    }
   },
   "outputs": [],
   "source": [
    "data = spark.read.csv('customer_churn.csv', inferSchema = True, header = True)"
   ]
  },
  {
   "cell_type": "code",
   "execution_count": 5,
   "metadata": {
    "ExecuteTime": {
     "end_time": "2021-04-20T15:30:58.074197Z",
     "start_time": "2021-04-20T15:30:58.062230Z"
    }
   },
   "outputs": [
    {
     "name": "stdout",
     "output_type": "stream",
     "text": [
      "root\n",
      " |-- Names: string (nullable = true)\n",
      " |-- Age: double (nullable = true)\n",
      " |-- Total_Purchase: double (nullable = true)\n",
      " |-- Account_Manager: integer (nullable = true)\n",
      " |-- Years: double (nullable = true)\n",
      " |-- Num_Sites: double (nullable = true)\n",
      " |-- Onboard_date: string (nullable = true)\n",
      " |-- Location: string (nullable = true)\n",
      " |-- Company: string (nullable = true)\n",
      " |-- Churn: integer (nullable = true)\n",
      "\n"
     ]
    }
   ],
   "source": [
    "data.printSchema()"
   ]
  },
  {
   "cell_type": "code",
   "execution_count": 6,
   "metadata": {
    "ExecuteTime": {
     "end_time": "2021-04-20T15:31:30.424268Z",
     "start_time": "2021-04-20T15:31:29.406028Z"
    }
   },
   "outputs": [
    {
     "name": "stdout",
     "output_type": "stream",
     "text": [
      "+-------+-------------+-----------------+-----------------+------------------+-----------------+------------------+-------------------+--------------------+--------------------+-------------------+\n",
      "|summary|        Names|              Age|   Total_Purchase|   Account_Manager|            Years|         Num_Sites|       Onboard_date|            Location|             Company|              Churn|\n",
      "+-------+-------------+-----------------+-----------------+------------------+-----------------+------------------+-------------------+--------------------+--------------------+-------------------+\n",
      "|  count|          900|              900|              900|               900|              900|               900|                900|                 900|                 900|                900|\n",
      "|   mean|         null|41.81666666666667|10062.82403333334|0.4811111111111111| 5.27315555555555| 8.587777777777777|               null|                null|                null|0.16666666666666666|\n",
      "| stddev|         null|6.127560416916251|2408.644531858096|0.4999208935073339|1.274449013194616|1.7648355920350969|               null|                null|                null| 0.3728852122772358|\n",
      "|    min|   Aaron King|             22.0|            100.0|                 0|              1.0|               3.0|2006-01-02 04:16:13|00103 Jeffrey Cre...|     Abbott-Thompson|                  0|\n",
      "|    max|Zachary Walsh|             65.0|         18026.01|                 1|             9.15|              14.0|2016-12-28 04:07:38|Unit 9800 Box 287...|Zuniga, Clark and...|                  1|\n",
      "+-------+-------------+-----------------+-----------------+------------------+-----------------+------------------+-------------------+--------------------+--------------------+-------------------+\n",
      "\n"
     ]
    }
   ],
   "source": [
    "data.describe().show()"
   ]
  },
  {
   "cell_type": "code",
   "execution_count": 7,
   "metadata": {
    "ExecuteTime": {
     "end_time": "2021-04-20T15:32:05.082943Z",
     "start_time": "2021-04-20T15:32:05.061999Z"
    }
   },
   "outputs": [
    {
     "data": {
      "text/plain": [
       "['Names',\n",
       " 'Age',\n",
       " 'Total_Purchase',\n",
       " 'Account_Manager',\n",
       " 'Years',\n",
       " 'Num_Sites',\n",
       " 'Onboard_date',\n",
       " 'Location',\n",
       " 'Company',\n",
       " 'Churn']"
      ]
     },
     "execution_count": 7,
     "metadata": {},
     "output_type": "execute_result"
    }
   ],
   "source": [
    "data.columns"
   ]
  },
  {
   "cell_type": "code",
   "execution_count": 9,
   "metadata": {
    "ExecuteTime": {
     "end_time": "2021-04-20T15:33:17.741741Z",
     "start_time": "2021-04-20T15:33:17.371180Z"
    }
   },
   "outputs": [],
   "source": [
    "from pyspark.ml.feature import VectorAssembler"
   ]
  },
  {
   "cell_type": "code",
   "execution_count": 10,
   "metadata": {
    "ExecuteTime": {
     "end_time": "2021-04-20T15:34:42.606309Z",
     "start_time": "2021-04-20T15:34:42.581583Z"
    }
   },
   "outputs": [],
   "source": [
    "assembler = VectorAssembler(inputCols = ['Age','Total_Purchase','Account_Manager','Years','Num_Sites'], \n",
    "                            outputCol = 'features')"
   ]
  },
  {
   "cell_type": "code",
   "execution_count": 11,
   "metadata": {
    "ExecuteTime": {
     "end_time": "2021-04-20T15:34:58.789141Z",
     "start_time": "2021-04-20T15:34:58.717336Z"
    }
   },
   "outputs": [],
   "source": [
    "output = assembler.transform(data)"
   ]
  },
  {
   "cell_type": "code",
   "execution_count": 12,
   "metadata": {
    "ExecuteTime": {
     "end_time": "2021-04-20T15:35:36.526779Z",
     "start_time": "2021-04-20T15:35:36.508789Z"
    }
   },
   "outputs": [],
   "source": [
    "final_data = output.select('features', 'churn')"
   ]
  },
  {
   "cell_type": "code",
   "execution_count": 13,
   "metadata": {
    "ExecuteTime": {
     "end_time": "2021-04-20T15:36:26.213664Z",
     "start_time": "2021-04-20T15:36:26.194590Z"
    }
   },
   "outputs": [],
   "source": [
    "train, test = final_data.randomSplit([0.7, 0.3])"
   ]
  },
  {
   "cell_type": "code",
   "execution_count": 14,
   "metadata": {
    "ExecuteTime": {
     "end_time": "2021-04-20T15:36:49.100383Z",
     "start_time": "2021-04-20T15:36:49.097423Z"
    }
   },
   "outputs": [],
   "source": [
    "from pyspark.ml.classification import LogisticRegression"
   ]
  },
  {
   "cell_type": "code",
   "execution_count": 15,
   "metadata": {
    "ExecuteTime": {
     "end_time": "2021-04-20T15:37:46.806612Z",
     "start_time": "2021-04-20T15:37:46.752957Z"
    }
   },
   "outputs": [],
   "source": [
    "lr = LogisticRegression(featuresCol='features', labelCol='churn')"
   ]
  },
  {
   "cell_type": "code",
   "execution_count": 16,
   "metadata": {
    "ExecuteTime": {
     "end_time": "2021-04-20T15:38:20.855382Z",
     "start_time": "2021-04-20T15:38:18.057616Z"
    }
   },
   "outputs": [],
   "source": [
    "lr_model = lr.fit(train)"
   ]
  },
  {
   "cell_type": "code",
   "execution_count": 18,
   "metadata": {
    "ExecuteTime": {
     "end_time": "2021-04-20T15:38:54.865275Z",
     "start_time": "2021-04-20T15:38:54.859290Z"
    }
   },
   "outputs": [],
   "source": [
    "lr_summary = lr_model.summary"
   ]
  },
  {
   "cell_type": "code",
   "execution_count": 19,
   "metadata": {
    "ExecuteTime": {
     "end_time": "2021-04-20T15:39:07.568998Z",
     "start_time": "2021-04-20T15:39:07.563784Z"
    }
   },
   "outputs": [
    {
     "data": {
      "text/plain": [
       "0.8909090909090909"
      ]
     },
     "execution_count": 19,
     "metadata": {},
     "output_type": "execute_result"
    }
   ],
   "source": [
    "lr_summary.accuracy"
   ]
  },
  {
   "cell_type": "code",
   "execution_count": 20,
   "metadata": {
    "ExecuteTime": {
     "end_time": "2021-04-20T15:39:52.561607Z",
     "start_time": "2021-04-20T15:39:52.343254Z"
    }
   },
   "outputs": [
    {
     "name": "stdout",
     "output_type": "stream",
     "text": [
      "+-------+-------------------+------------------+\n",
      "|summary|              churn|        prediction|\n",
      "+-------+-------------------+------------------+\n",
      "|  count|                605|               605|\n",
      "|   mean|0.16363636363636364|0.1305785123966942|\n",
      "| stddev|0.37025139124010303|0.3372176216806523|\n",
      "|    min|                0.0|               0.0|\n",
      "|    max|                1.0|               1.0|\n",
      "+-------+-------------------+------------------+\n",
      "\n"
     ]
    }
   ],
   "source": [
    "lr_summary.predictions.describe().show()"
   ]
  },
  {
   "cell_type": "code",
   "execution_count": 21,
   "metadata": {
    "ExecuteTime": {
     "end_time": "2021-04-20T15:41:03.264833Z",
     "start_time": "2021-04-20T15:41:03.260843Z"
    }
   },
   "outputs": [],
   "source": [
    "from pyspark.ml.evaluation import BinaryClassificationEvaluator, MulticlassClassificationEvaluator"
   ]
  },
  {
   "cell_type": "code",
   "execution_count": 22,
   "metadata": {
    "ExecuteTime": {
     "end_time": "2021-04-20T15:41:28.539022Z",
     "start_time": "2021-04-20T15:41:28.411332Z"
    }
   },
   "outputs": [],
   "source": [
    "pred_and_labels = lr_model.evaluate(test)"
   ]
  },
  {
   "cell_type": "code",
   "execution_count": 23,
   "metadata": {
    "ExecuteTime": {
     "end_time": "2021-04-20T15:41:52.710510Z",
     "start_time": "2021-04-20T15:41:52.590211Z"
    }
   },
   "outputs": [
    {
     "name": "stdout",
     "output_type": "stream",
     "text": [
      "+--------------------+-----+--------------------+--------------------+----------+\n",
      "|            features|churn|       rawPrediction|         probability|prediction|\n",
      "+--------------------+-----+--------------------+--------------------+----------+\n",
      "|[22.0,11254.38,1....|    0|[4.50873751712712...|[0.98910759669241...|       0.0|\n",
      "|[28.0,8670.98,0.0...|    0|[7.82872891346846...|[0.99960202722735...|       0.0|\n",
      "|[29.0,5900.78,1.0...|    0|[4.11795592957316...|[0.98398296796336...|       0.0|\n",
      "|[29.0,9378.24,0.0...|    0|[4.84007562741067...|[0.99215556559197...|       0.0|\n",
      "|[30.0,7960.64,1.0...|    1|[3.07022663998568...|[0.95564777956159...|       0.0|\n",
      "|[30.0,8677.28,1.0...|    0|[4.16489850989443...|[0.98470624073455...|       0.0|\n",
      "|[30.0,10183.98,1....|    0|[2.84535271468477...|[0.94507796095440...|       0.0|\n",
      "|[30.0,10744.14,1....|    1|[1.73416975767731...|[0.84994500124043...|       0.0|\n",
      "|[30.0,11575.37,1....|    1|[3.91824451004333...|[0.98051139841367...|       0.0|\n",
      "|[30.0,13473.35,0....|    0|[2.74032532000218...|[0.93936462914488...|       0.0|\n",
      "|[31.0,5304.6,0.0,...|    0|[3.57854285969283...|[0.97284181075890...|       0.0|\n",
      "|[31.0,8829.83,1.0...|    0|[4.39626937667970...|[0.98782678571474...|       0.0|\n",
      "|[32.0,6367.22,1.0...|    0|[2.98972240651113...|[0.95210765384484...|       0.0|\n",
      "|[32.0,8011.38,0.0...|    0|[2.14045831287532...|[0.89477377012501...|       0.0|\n",
      "|[32.0,9036.27,0.0...|    0|[-0.0705149447121...|[0.48237856488972...|       1.0|\n",
      "|[32.0,11540.86,0....|    0|[6.77962865304549...|[0.99886459368397...|       0.0|\n",
      "|[32.0,11715.72,0....|    0|[3.45386964576716...|[0.96934633244350...|       0.0|\n",
      "|[32.0,12142.99,0....|    0|[5.67136695724857...|[0.99656865922805...|       0.0|\n",
      "|[32.0,12479.72,0....|    0|[4.63770772789759...|[0.99041294031499...|       0.0|\n",
      "|[32.0,13630.93,0....|    0|[2.33454478230315...|[0.91169789895269...|       0.0|\n",
      "+--------------------+-----+--------------------+--------------------+----------+\n",
      "only showing top 20 rows\n",
      "\n"
     ]
    }
   ],
   "source": [
    "pred_and_labels.predictions.show()"
   ]
  },
  {
   "cell_type": "code",
   "execution_count": 25,
   "metadata": {
    "ExecuteTime": {
     "end_time": "2021-04-20T15:45:05.902991Z",
     "start_time": "2021-04-20T15:45:05.895012Z"
    }
   },
   "outputs": [],
   "source": [
    "evalu = BinaryClassificationEvaluator(labelCol = 'churn', rawPredictionCol='prediction')"
   ]
  },
  {
   "cell_type": "code",
   "execution_count": 26,
   "metadata": {
    "ExecuteTime": {
     "end_time": "2021-04-20T15:45:08.172840Z",
     "start_time": "2021-04-20T15:45:08.022278Z"
    }
   },
   "outputs": [],
   "source": [
    "auc = evalu.evaluate(pred_and_labels.predictions)"
   ]
  },
  {
   "cell_type": "code",
   "execution_count": 27,
   "metadata": {
    "ExecuteTime": {
     "end_time": "2021-04-20T15:45:15.314410Z",
     "start_time": "2021-04-20T15:45:15.307429Z"
    }
   },
   "outputs": [
    {
     "data": {
      "text/plain": [
       "0.7389504982320798"
      ]
     },
     "execution_count": 27,
     "metadata": {},
     "output_type": "execute_result"
    }
   ],
   "source": [
    "auc"
   ]
  },
  {
   "cell_type": "code",
   "execution_count": 28,
   "metadata": {
    "ExecuteTime": {
     "end_time": "2021-04-20T15:46:26.225144Z",
     "start_time": "2021-04-20T15:46:25.198343Z"
    }
   },
   "outputs": [],
   "source": [
    "# predict on new data\n",
    "final_lr = lr.fit(final_data) "
   ]
  },
  {
   "cell_type": "code",
   "execution_count": 29,
   "metadata": {
    "ExecuteTime": {
     "end_time": "2021-04-20T15:47:23.838168Z",
     "start_time": "2021-04-20T15:47:23.712978Z"
    }
   },
   "outputs": [],
   "source": [
    "new_customers = spark.read.csv('new_customers.csv', inferSchema = True, header = True)"
   ]
  },
  {
   "cell_type": "code",
   "execution_count": 30,
   "metadata": {
    "ExecuteTime": {
     "end_time": "2021-04-20T15:47:40.024428Z",
     "start_time": "2021-04-20T15:47:40.018443Z"
    }
   },
   "outputs": [
    {
     "name": "stdout",
     "output_type": "stream",
     "text": [
      "root\n",
      " |-- Names: string (nullable = true)\n",
      " |-- Age: double (nullable = true)\n",
      " |-- Total_Purchase: double (nullable = true)\n",
      " |-- Account_Manager: integer (nullable = true)\n",
      " |-- Years: double (nullable = true)\n",
      " |-- Num_Sites: double (nullable = true)\n",
      " |-- Onboard_date: string (nullable = true)\n",
      " |-- Location: string (nullable = true)\n",
      " |-- Company: string (nullable = true)\n",
      "\n"
     ]
    }
   ],
   "source": [
    "new_customers.printSchema()"
   ]
  },
  {
   "cell_type": "code",
   "execution_count": 32,
   "metadata": {
    "ExecuteTime": {
     "end_time": "2021-04-20T15:48:29.909506Z",
     "start_time": "2021-04-20T15:48:29.890108Z"
    }
   },
   "outputs": [],
   "source": [
    "test_new = assembler.transform(new_customers)"
   ]
  },
  {
   "cell_type": "code",
   "execution_count": 33,
   "metadata": {
    "ExecuteTime": {
     "end_time": "2021-04-20T15:48:42.961232Z",
     "start_time": "2021-04-20T15:48:42.956245Z"
    }
   },
   "outputs": [
    {
     "name": "stdout",
     "output_type": "stream",
     "text": [
      "root\n",
      " |-- Names: string (nullable = true)\n",
      " |-- Age: double (nullable = true)\n",
      " |-- Total_Purchase: double (nullable = true)\n",
      " |-- Account_Manager: integer (nullable = true)\n",
      " |-- Years: double (nullable = true)\n",
      " |-- Num_Sites: double (nullable = true)\n",
      " |-- Onboard_date: string (nullable = true)\n",
      " |-- Location: string (nullable = true)\n",
      " |-- Company: string (nullable = true)\n",
      " |-- features: vector (nullable = true)\n",
      "\n"
     ]
    }
   ],
   "source": [
    "test_new.printSchema()"
   ]
  },
  {
   "cell_type": "code",
   "execution_count": 34,
   "metadata": {
    "ExecuteTime": {
     "end_time": "2021-04-20T15:49:15.445331Z",
     "start_time": "2021-04-20T15:49:15.407427Z"
    }
   },
   "outputs": [],
   "source": [
    "res = final_lr.transform(test_new)"
   ]
  },
  {
   "cell_type": "code",
   "execution_count": 35,
   "metadata": {
    "ExecuteTime": {
     "end_time": "2021-04-20T15:49:51.111202Z",
     "start_time": "2021-04-20T15:49:51.036394Z"
    }
   },
   "outputs": [
    {
     "name": "stdout",
     "output_type": "stream",
     "text": [
      "+----------------+----------+\n",
      "|         company|prediction|\n",
      "+----------------+----------+\n",
      "|        King Ltd|       0.0|\n",
      "|   Cannon-Benson|       1.0|\n",
      "|Barron-Robertson|       1.0|\n",
      "|   Sexton-Golden|       1.0|\n",
      "|        Wood LLC|       0.0|\n",
      "|   Parks-Robbins|       1.0|\n",
      "+----------------+----------+\n",
      "\n"
     ]
    }
   ],
   "source": [
    "res.select('company','prediction').show()"
   ]
  },
  {
   "cell_type": "code",
   "execution_count": null,
   "metadata": {},
   "outputs": [],
   "source": []
  }
 ],
 "metadata": {
  "kernelspec": {
   "display_name": "Python 3",
   "language": "python",
   "name": "python3"
  },
  "language_info": {
   "codemirror_mode": {
    "name": "ipython",
    "version": 3
   },
   "file_extension": ".py",
   "mimetype": "text/x-python",
   "name": "python",
   "nbconvert_exporter": "python",
   "pygments_lexer": "ipython3",
   "version": "3.8.3"
  },
  "toc": {
   "base_numbering": 1,
   "nav_menu": {},
   "number_sections": true,
   "sideBar": true,
   "skip_h1_title": false,
   "title_cell": "Table of Contents",
   "title_sidebar": "Contents",
   "toc_cell": false,
   "toc_position": {},
   "toc_section_display": true,
   "toc_window_display": false
  }
 },
 "nbformat": 4,
 "nbformat_minor": 4
}
