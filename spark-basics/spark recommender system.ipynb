{
 "cells": [
  {
   "cell_type": "code",
   "execution_count": 1,
   "metadata": {
    "ExecuteTime": {
     "end_time": "2021-04-27T16:08:01.302864Z",
     "start_time": "2021-04-27T16:07:53.332875Z"
    }
   },
   "outputs": [],
   "source": [
    "from pyspark.sql import SparkSession as ss\n",
    "spark = ss.builder.appName('rec').getOrCreate()"
   ]
  },
  {
   "cell_type": "code",
   "execution_count": 2,
   "metadata": {
    "ExecuteTime": {
     "end_time": "2021-04-27T16:08:32.626636Z",
     "start_time": "2021-04-27T16:08:32.621637Z"
    }
   },
   "outputs": [],
   "source": [
    "from pyspark.ml.recommendation import ALS"
   ]
  },
  {
   "cell_type": "code",
   "execution_count": 3,
   "metadata": {
    "ExecuteTime": {
     "end_time": "2021-04-27T16:09:03.935115Z",
     "start_time": "2021-04-27T16:09:03.931879Z"
    }
   },
   "outputs": [],
   "source": [
    "from pyspark.ml.evaluation import RegressionEvaluator"
   ]
  },
  {
   "cell_type": "code",
   "execution_count": 4,
   "metadata": {
    "ExecuteTime": {
     "end_time": "2021-04-27T16:09:35.974149Z",
     "start_time": "2021-04-27T16:09:33.449396Z"
    }
   },
   "outputs": [],
   "source": [
    "data = spark.read.csv('movielens_ratings.csv', inferSchema = True, header = True)"
   ]
  },
  {
   "cell_type": "code",
   "execution_count": 6,
   "metadata": {
    "ExecuteTime": {
     "end_time": "2021-04-27T16:09:46.457304Z",
     "start_time": "2021-04-27T16:09:46.449328Z"
    }
   },
   "outputs": [
    {
     "name": "stdout",
     "output_type": "stream",
     "text": [
      "root\n",
      " |-- movieId: integer (nullable = true)\n",
      " |-- rating: double (nullable = true)\n",
      " |-- userId: integer (nullable = true)\n",
      "\n"
     ]
    }
   ],
   "source": [
    "data.printSchema()"
   ]
  },
  {
   "cell_type": "code",
   "execution_count": 8,
   "metadata": {
    "ExecuteTime": {
     "end_time": "2021-04-27T16:12:11.554251Z",
     "start_time": "2021-04-27T16:12:11.531172Z"
    }
   },
   "outputs": [],
   "source": [
    "train, test = data.randomSplit([0.8,0.2])"
   ]
  },
  {
   "cell_type": "code",
   "execution_count": 9,
   "metadata": {
    "ExecuteTime": {
     "end_time": "2021-04-27T16:13:23.925683Z",
     "start_time": "2021-04-27T16:13:23.287877Z"
    }
   },
   "outputs": [],
   "source": [
    "als = ALS(maxIter=5, regParam=0.01, userCol='userId', itemCol='movieId', ratingCol='rating')"
   ]
  },
  {
   "cell_type": "code",
   "execution_count": 10,
   "metadata": {
    "ExecuteTime": {
     "end_time": "2021-04-27T16:13:41.213419Z",
     "start_time": "2021-04-27T16:13:33.072532Z"
    }
   },
   "outputs": [],
   "source": [
    "model = als.fit(train)"
   ]
  },
  {
   "cell_type": "code",
   "execution_count": 13,
   "metadata": {
    "ExecuteTime": {
     "end_time": "2021-04-27T16:14:04.117018Z",
     "start_time": "2021-04-27T16:14:04.084107Z"
    }
   },
   "outputs": [],
   "source": [
    "prediction = model.transform(test)"
   ]
  },
  {
   "cell_type": "code",
   "execution_count": 14,
   "metadata": {
    "ExecuteTime": {
     "end_time": "2021-04-27T16:14:07.297785Z",
     "start_time": "2021-04-27T16:14:04.957469Z"
    }
   },
   "outputs": [
    {
     "name": "stdout",
     "output_type": "stream",
     "text": [
      "+-------+------+------+-----------+\n",
      "|movieId|rating|userId| prediction|\n",
      "+-------+------+------+-----------+\n",
      "|     31|   1.0|    26|  1.1693002|\n",
      "|     31|   4.0|    12|  0.6375409|\n",
      "|     31|   1.0|    29|   0.825013|\n",
      "|     85|   1.0|    13|  1.8989636|\n",
      "|     85|   5.0|    16| 0.26125348|\n",
      "|     85|   5.0|     8|  1.4913979|\n",
      "|     85|   4.0|     7|  2.0589018|\n",
      "|     85|   3.0|    21|  3.1077423|\n",
      "|     65|   2.0|    15| -0.3118787|\n",
      "|     53|   1.0|     6|-0.82878155|\n",
      "|     53|   1.0|    23|  3.6619213|\n",
      "|     53|   1.0|     7|  0.9941268|\n",
      "|     78|   1.0|     1|  1.0623198|\n",
      "|     78|   1.0|    19|  0.6004365|\n",
      "|     78|   1.0|    17| 0.58261186|\n",
      "|     34|   1.0|    19|  2.0343156|\n",
      "|     34|   1.0|    14|  2.5321896|\n",
      "|     81|   1.0|     1|  3.4048033|\n",
      "|     81|   2.0|    29|  2.1292088|\n",
      "|     81|   3.0|    18|-0.97793835|\n",
      "+-------+------+------+-----------+\n",
      "only showing top 20 rows\n",
      "\n"
     ]
    }
   ],
   "source": [
    "prediction.show()"
   ]
  },
  {
   "cell_type": "code",
   "execution_count": 15,
   "metadata": {
    "ExecuteTime": {
     "end_time": "2021-04-27T16:15:52.843750Z",
     "start_time": "2021-04-27T16:15:52.831774Z"
    }
   },
   "outputs": [],
   "source": [
    "evaluator= RegressionEvaluator(metricName='rmse',labelCol='rating',predictionCol='prediction')"
   ]
  },
  {
   "cell_type": "code",
   "execution_count": 16,
   "metadata": {
    "ExecuteTime": {
     "end_time": "2021-04-27T16:16:16.069413Z",
     "start_time": "2021-04-27T16:16:13.844363Z"
    }
   },
   "outputs": [],
   "source": [
    "rmse = evaluator.evaluate(prediction)"
   ]
  },
  {
   "cell_type": "code",
   "execution_count": 17,
   "metadata": {
    "ExecuteTime": {
     "end_time": "2021-04-27T16:16:22.787162Z",
     "start_time": "2021-04-27T16:16:22.779895Z"
    }
   },
   "outputs": [
    {
     "data": {
      "text/plain": [
       "1.9396984017990924"
      ]
     },
     "execution_count": 17,
     "metadata": {},
     "output_type": "execute_result"
    }
   ],
   "source": [
    "rmse"
   ]
  },
  {
   "cell_type": "code",
   "execution_count": 18,
   "metadata": {
    "ExecuteTime": {
     "end_time": "2021-04-27T16:17:44.532419Z",
     "start_time": "2021-04-27T16:17:44.513461Z"
    }
   },
   "outputs": [],
   "source": [
    "single_user = test.filter(test['userId'] == 11).select('movieId','userId')"
   ]
  },
  {
   "cell_type": "code",
   "execution_count": 19,
   "metadata": {
    "ExecuteTime": {
     "end_time": "2021-04-27T16:17:54.879640Z",
     "start_time": "2021-04-27T16:17:54.776873Z"
    }
   },
   "outputs": [
    {
     "name": "stdout",
     "output_type": "stream",
     "text": [
      "+-------+------+\n",
      "|movieId|userId|\n",
      "+-------+------+\n",
      "|      0|    11|\n",
      "|     12|    11|\n",
      "|     18|    11|\n",
      "|     48|    11|\n",
      "|     80|    11|\n",
      "|     90|    11|\n",
      "+-------+------+\n",
      "\n"
     ]
    }
   ],
   "source": [
    "single_user.show()"
   ]
  },
  {
   "cell_type": "code",
   "execution_count": 20,
   "metadata": {
    "ExecuteTime": {
     "end_time": "2021-04-27T16:18:53.373676Z",
     "start_time": "2021-04-27T16:18:53.348744Z"
    }
   },
   "outputs": [],
   "source": [
    "recommendation = model.transform(single_user)"
   ]
  },
  {
   "cell_type": "code",
   "execution_count": 21,
   "metadata": {
    "ExecuteTime": {
     "end_time": "2021-04-27T16:19:19.947312Z",
     "start_time": "2021-04-27T16:19:18.846291Z"
    }
   },
   "outputs": [
    {
     "name": "stdout",
     "output_type": "stream",
     "text": [
      "+-------+------+----------+\n",
      "|movieId|userId|prediction|\n",
      "+-------+------+----------+\n",
      "|     18|    11|  5.952113|\n",
      "|     90|    11|  5.780332|\n",
      "|     80|    11| 3.9571958|\n",
      "|     48|    11| 0.7231833|\n",
      "|      0|    11|0.22380972|\n",
      "|     12|    11|-0.6019163|\n",
      "+-------+------+----------+\n",
      "\n"
     ]
    }
   ],
   "source": [
    "recommendation.orderBy('prediction', ascending = False).show()"
   ]
  },
  {
   "cell_type": "code",
   "execution_count": null,
   "metadata": {},
   "outputs": [],
   "source": []
  }
 ],
 "metadata": {
  "kernelspec": {
   "display_name": "Python 3",
   "language": "python",
   "name": "python3"
  },
  "language_info": {
   "codemirror_mode": {
    "name": "ipython",
    "version": 3
   },
   "file_extension": ".py",
   "mimetype": "text/x-python",
   "name": "python",
   "nbconvert_exporter": "python",
   "pygments_lexer": "ipython3",
   "version": "3.8.3"
  },
  "toc": {
   "base_numbering": 1,
   "nav_menu": {},
   "number_sections": true,
   "sideBar": true,
   "skip_h1_title": false,
   "title_cell": "Table of Contents",
   "title_sidebar": "Contents",
   "toc_cell": false,
   "toc_position": {},
   "toc_section_display": true,
   "toc_window_display": false
  }
 },
 "nbformat": 4,
 "nbformat_minor": 4
}
